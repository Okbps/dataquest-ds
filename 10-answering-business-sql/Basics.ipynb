{
 "cells": [
  {
   "cell_type": "code",
   "execution_count": 35,
   "metadata": {
    "collapsed": true
   },
   "outputs": [],
   "source": [
    "import sqlite3\n",
    "import pandas as pd\n",
    "import matplotlib.pyplot as plt\n",
    "import numpy as np\n",
    "\n",
    "%matplotlib inline"
   ]
  },
  {
   "cell_type": "code",
   "execution_count": 11,
   "metadata": {
    "collapsed": true
   },
   "outputs": [],
   "source": [
    "def run_query(q):\n",
    "    with sqlite3.connect('chinook.db') as conn:\n",
    "        return pd.read_sql(q, conn)\n",
    "    \n",
    "def run_command(c):\n",
    "    with sqlite3.connect('chinook.db') as conn:\n",
    "        conn.isolation_level = None\n",
    "        conn.execute(c)\n",
    "        \n",
    "def show_tables():\n",
    "    q = '''SELECT\n",
    "                name,\n",
    "                type\n",
    "            FROM sqlite_master\n",
    "            WHERE type IN (\"table\", \"view\")'''\n",
    "    \n",
    "    return run_query(q)"
   ]
  },
  {
   "cell_type": "code",
   "execution_count": 12,
   "metadata": {
    "collapsed": false
   },
   "outputs": [
    {
     "data": {
      "text/html": [
       "<div>\n",
       "<table border=\"1\" class=\"dataframe\">\n",
       "  <thead>\n",
       "    <tr style=\"text-align: right;\">\n",
       "      <th></th>\n",
       "      <th>name</th>\n",
       "      <th>type</th>\n",
       "    </tr>\n",
       "  </thead>\n",
       "  <tbody>\n",
       "    <tr>\n",
       "      <th>0</th>\n",
       "      <td>album</td>\n",
       "      <td>table</td>\n",
       "    </tr>\n",
       "    <tr>\n",
       "      <th>1</th>\n",
       "      <td>artist</td>\n",
       "      <td>table</td>\n",
       "    </tr>\n",
       "    <tr>\n",
       "      <th>2</th>\n",
       "      <td>customer</td>\n",
       "      <td>table</td>\n",
       "    </tr>\n",
       "    <tr>\n",
       "      <th>3</th>\n",
       "      <td>employee</td>\n",
       "      <td>table</td>\n",
       "    </tr>\n",
       "    <tr>\n",
       "      <th>4</th>\n",
       "      <td>genre</td>\n",
       "      <td>table</td>\n",
       "    </tr>\n",
       "    <tr>\n",
       "      <th>5</th>\n",
       "      <td>invoice</td>\n",
       "      <td>table</td>\n",
       "    </tr>\n",
       "    <tr>\n",
       "      <th>6</th>\n",
       "      <td>invoice_line</td>\n",
       "      <td>table</td>\n",
       "    </tr>\n",
       "    <tr>\n",
       "      <th>7</th>\n",
       "      <td>media_type</td>\n",
       "      <td>table</td>\n",
       "    </tr>\n",
       "    <tr>\n",
       "      <th>8</th>\n",
       "      <td>playlist</td>\n",
       "      <td>table</td>\n",
       "    </tr>\n",
       "    <tr>\n",
       "      <th>9</th>\n",
       "      <td>playlist_track</td>\n",
       "      <td>table</td>\n",
       "    </tr>\n",
       "    <tr>\n",
       "      <th>10</th>\n",
       "      <td>track</td>\n",
       "      <td>table</td>\n",
       "    </tr>\n",
       "  </tbody>\n",
       "</table>\n",
       "</div>"
      ],
      "text/plain": [
       "              name   type\n",
       "0            album  table\n",
       "1           artist  table\n",
       "2         customer  table\n",
       "3         employee  table\n",
       "4            genre  table\n",
       "5          invoice  table\n",
       "6     invoice_line  table\n",
       "7       media_type  table\n",
       "8         playlist  table\n",
       "9   playlist_track  table\n",
       "10           track  table"
      ]
     },
     "execution_count": 12,
     "metadata": {},
     "output_type": "execute_result"
    }
   ],
   "source": [
    "tables = show_tables()\n",
    "tables"
   ]
  },
  {
   "cell_type": "code",
   "execution_count": 94,
   "metadata": {
    "collapsed": false
   },
   "outputs": [
    {
     "data": {
      "text/html": [
       "<div>\n",
       "<table border=\"1\" class=\"dataframe\">\n",
       "  <thead>\n",
       "    <tr style=\"text-align: right;\">\n",
       "      <th></th>\n",
       "      <th>gquant</th>\n",
       "      <th>qpercent</th>\n",
       "    </tr>\n",
       "    <tr>\n",
       "      <th>gname</th>\n",
       "      <th></th>\n",
       "      <th></th>\n",
       "    </tr>\n",
       "  </thead>\n",
       "  <tbody>\n",
       "    <tr>\n",
       "      <th>Hip Hop/Rap</th>\n",
       "      <td>33</td>\n",
       "      <td>0.01</td>\n",
       "    </tr>\n",
       "    <tr>\n",
       "      <th>Reggae</th>\n",
       "      <td>35</td>\n",
       "      <td>0.01</td>\n",
       "    </tr>\n",
       "    <tr>\n",
       "      <th>Classical</th>\n",
       "      <td>47</td>\n",
       "      <td>0.01</td>\n",
       "    </tr>\n",
       "    <tr>\n",
       "      <th>Electronica/Dance</th>\n",
       "      <td>55</td>\n",
       "      <td>0.01</td>\n",
       "    </tr>\n",
       "    <tr>\n",
       "      <th>Pop</th>\n",
       "      <td>63</td>\n",
       "      <td>0.01</td>\n",
       "    </tr>\n",
       "    <tr>\n",
       "      <th>Easy Listening</th>\n",
       "      <td>74</td>\n",
       "      <td>0.02</td>\n",
       "    </tr>\n",
       "    <tr>\n",
       "      <th>Alternative</th>\n",
       "      <td>117</td>\n",
       "      <td>0.02</td>\n",
       "    </tr>\n",
       "    <tr>\n",
       "      <th>Jazz</th>\n",
       "      <td>121</td>\n",
       "      <td>0.03</td>\n",
       "    </tr>\n",
       "    <tr>\n",
       "      <th>Blues</th>\n",
       "      <td>124</td>\n",
       "      <td>0.03</td>\n",
       "    </tr>\n",
       "    <tr>\n",
       "      <th>R&amp;B/Soul</th>\n",
       "      <td>159</td>\n",
       "      <td>0.03</td>\n",
       "    </tr>\n",
       "    <tr>\n",
       "      <th>Latin</th>\n",
       "      <td>167</td>\n",
       "      <td>0.04</td>\n",
       "    </tr>\n",
       "    <tr>\n",
       "      <th>Alternative &amp; Punk</th>\n",
       "      <td>492</td>\n",
       "      <td>0.10</td>\n",
       "    </tr>\n",
       "    <tr>\n",
       "      <th>Metal</th>\n",
       "      <td>619</td>\n",
       "      <td>0.13</td>\n",
       "    </tr>\n",
       "    <tr>\n",
       "      <th>Rock</th>\n",
       "      <td>2635</td>\n",
       "      <td>0.55</td>\n",
       "    </tr>\n",
       "  </tbody>\n",
       "</table>\n",
       "</div>"
      ],
      "text/plain": [
       "                    gquant  qpercent\n",
       "gname                               \n",
       "Hip Hop/Rap             33      0.01\n",
       "Reggae                  35      0.01\n",
       "Classical               47      0.01\n",
       "Electronica/Dance       55      0.01\n",
       "Pop                     63      0.01\n",
       "Easy Listening          74      0.02\n",
       "Alternative            117      0.02\n",
       "Jazz                   121      0.03\n",
       "Blues                  124      0.03\n",
       "R&B/Soul               159      0.03\n",
       "Latin                  167      0.04\n",
       "Alternative & Punk     492      0.10\n",
       "Metal                  619      0.13\n",
       "Rock                  2635      0.55"
      ]
     },
     "execution_count": 94,
     "metadata": {},
     "output_type": "execute_result"
    }
   ],
   "source": [
    "q = '''\n",
    "WITH tot AS (SELECT SUM(quantity) q FROM invoice_line)\n",
    "\n",
    "SELECT\n",
    "    g.name gname,\n",
    "    SUM(IFNULL(il.quantity, 0)) gquant,\n",
    "    ROUND(CAST(SUM(IFNULL(il.quantity, 0)) AS Float)\n",
    "        /CAST((SELECT tot.q FROM tot) AS Float), 2) qpercent\n",
    "FROM track t\n",
    "    LEFT JOIN invoice_line il ON il.track_id = t.track_id\n",
    "    LEFT JOIN genre g ON t.genre_id = g.genre_id\n",
    "GROUP BY\n",
    "    gname\n",
    "HAVING qpercent>0   \n",
    "ORDER BY gquant\n",
    "'''\n",
    "\n",
    "top_genres = run_query(q)\n",
    "top_genres.set_index('gname', drop=True, inplace=True)\n",
    "top_genres"
   ]
  },
  {
   "cell_type": "code",
   "execution_count": 95,
   "metadata": {
    "collapsed": false
   },
   "outputs": [
    {
     "data": {
      "image/png": "[encoded data removed]",
      "text/plain": [
       "<matplotlib.figure.Figure at 0x7f632d01bac8>"
      ]
     },
     "metadata": {},
     "output_type": "display_data"
    }
   ],
   "source": [
    "top_genres.plot(kind='barh')\n",
    "\n",
    "plt.show()"
   ]
  },
  {
   "cell_type": "code",
   "execution_count": 103,
   "metadata": {
    "collapsed": false
   },
   "outputs": [
    {
     "data": {
      "text/html": [
       "<div>\n",
       "<table border=\"1\" class=\"dataframe\">\n",
       "  <thead>\n",
       "    <tr style=\"text-align: right;\">\n",
       "      <th></th>\n",
       "      <th>total</th>\n",
       "    </tr>\n",
       "    <tr>\n",
       "      <th>ename</th>\n",
       "      <th></th>\n",
       "    </tr>\n",
       "  </thead>\n",
       "  <tbody>\n",
       "    <tr>\n",
       "      <th>Jane Peacock</th>\n",
       "      <td>1731.51</td>\n",
       "    </tr>\n",
       "    <tr>\n",
       "      <th>Margaret Park</th>\n",
       "      <td>1584.00</td>\n",
       "    </tr>\n",
       "    <tr>\n",
       "      <th>Steve Johnson</th>\n",
       "      <td>1393.92</td>\n",
       "    </tr>\n",
       "  </tbody>\n",
       "</table>\n",
       "</div>"
      ],
      "text/plain": [
       "                 total\n",
       "ename                 \n",
       "Jane Peacock   1731.51\n",
       "Margaret Park  1584.00\n",
       "Steve Johnson  1393.92"
      ]
     },
     "execution_count": 103,
     "metadata": {},
     "output_type": "execute_result"
    }
   ],
   "source": [
    "q = '''\n",
    "SELECT\n",
    "e.first_name || ' ' || e.last_name ename,\n",
    "SUM(i.total) total\n",
    "FROM employee e\n",
    "LEFT JOIN customer c ON e.employee_id = c.support_rep_id\n",
    "LEFT JOIN invoice i ON c.customer_id = i.customer_id\n",
    "WHERE i.total IS NOT NULL\n",
    "GROUP BY ename\n",
    "ORDER BY total DESC\n",
    "'''\n",
    "\n",
    "sales = run_query(q)\n",
    "sales.set_index('ename', drop=True, inplace=True)\n",
    "sales"
   ]
  },
  {
   "cell_type": "code",
   "execution_count": 106,
   "metadata": {
    "collapsed": false
   },
   "outputs": [
    {
     "data": {
      "text/plain": [
       "<matplotlib.axes._subplots.AxesSubplot at 0x7f632d08beb8>"
      ]
     },
     "execution_count": 106,
     "metadata": {},
     "output_type": "execute_result"
    },
    {
     "data": {
      "image/png": "[encoded data removed]",
      "text/plain": [
       "<matplotlib.figure.Figure at 0x7f632d1515f8>"
      ]
     },
     "metadata": {},
     "output_type": "display_data"
    }
   ],
   "source": [
    "sales['total'].plot.pie(figsize=(6,6), autopct='%.2f')"
   ]
  },
  {
   "cell_type": "markdown",
   "metadata": {},
   "source": [
    "For each country, include:\n",
    "-total number of customers\n",
    "-total value of sales\n",
    "-average value of sales per customer\n",
    "-average order value"
   ]
  },
  {
   "cell_type": "code",
   "execution_count": 126,
   "metadata": {
    "collapsed": false
   },
   "outputs": [
    {
     "data": {
      "text/html": [
       "<div>\n",
       "<table border=\"1\" class=\"dataframe\">\n",
       "  <thead>\n",
       "    <tr style=\"text-align: right;\">\n",
       "      <th></th>\n",
       "      <th>tot_customers</th>\n",
       "      <th>tot_sales</th>\n",
       "      <th>avg_customer</th>\n",
       "      <th>avg_order</th>\n",
       "    </tr>\n",
       "    <tr>\n",
       "      <th>country_oth</th>\n",
       "      <th></th>\n",
       "      <th></th>\n",
       "      <th></th>\n",
       "      <th></th>\n",
       "    </tr>\n",
       "  </thead>\n",
       "  <tbody>\n",
       "    <tr>\n",
       "      <th>USA</th>\n",
       "      <td>13</td>\n",
       "      <td>1040.49</td>\n",
       "      <td>80.037692</td>\n",
       "      <td>7.942672</td>\n",
       "    </tr>\n",
       "    <tr>\n",
       "      <th>Canada</th>\n",
       "      <td>8</td>\n",
       "      <td>535.59</td>\n",
       "      <td>66.948750</td>\n",
       "      <td>7.047237</td>\n",
       "    </tr>\n",
       "    <tr>\n",
       "      <th>Brazil</th>\n",
       "      <td>5</td>\n",
       "      <td>427.68</td>\n",
       "      <td>85.536000</td>\n",
       "      <td>7.011148</td>\n",
       "    </tr>\n",
       "    <tr>\n",
       "      <th>France</th>\n",
       "      <td>5</td>\n",
       "      <td>389.07</td>\n",
       "      <td>77.814000</td>\n",
       "      <td>7.781400</td>\n",
       "    </tr>\n",
       "    <tr>\n",
       "      <th>Germany</th>\n",
       "      <td>4</td>\n",
       "      <td>334.62</td>\n",
       "      <td>83.655000</td>\n",
       "      <td>8.161463</td>\n",
       "    </tr>\n",
       "    <tr>\n",
       "      <th>Czech Republic</th>\n",
       "      <td>2</td>\n",
       "      <td>273.24</td>\n",
       "      <td>136.620000</td>\n",
       "      <td>9.108000</td>\n",
       "    </tr>\n",
       "    <tr>\n",
       "      <th>United Kingdom</th>\n",
       "      <td>3</td>\n",
       "      <td>245.52</td>\n",
       "      <td>81.840000</td>\n",
       "      <td>8.768571</td>\n",
       "    </tr>\n",
       "    <tr>\n",
       "      <th>Portugal</th>\n",
       "      <td>2</td>\n",
       "      <td>185.13</td>\n",
       "      <td>92.565000</td>\n",
       "      <td>6.383793</td>\n",
       "    </tr>\n",
       "    <tr>\n",
       "      <th>India</th>\n",
       "      <td>2</td>\n",
       "      <td>183.15</td>\n",
       "      <td>91.575000</td>\n",
       "      <td>8.721429</td>\n",
       "    </tr>\n",
       "    <tr>\n",
       "      <th>Others</th>\n",
       "      <td>15</td>\n",
       "      <td>1094.94</td>\n",
       "      <td>72.996000</td>\n",
       "      <td>7.448571</td>\n",
       "    </tr>\n",
       "  </tbody>\n",
       "</table>\n",
       "</div>"
      ],
      "text/plain": [
       "                tot_customers  tot_sales  avg_customer  avg_order\n",
       "country_oth                                                      \n",
       "USA                        13    1040.49     80.037692   7.942672\n",
       "Canada                      8     535.59     66.948750   7.047237\n",
       "Brazil                      5     427.68     85.536000   7.011148\n",
       "France                      5     389.07     77.814000   7.781400\n",
       "Germany                     4     334.62     83.655000   8.161463\n",
       "Czech Republic              2     273.24    136.620000   9.108000\n",
       "United Kingdom              3     245.52     81.840000   8.768571\n",
       "Portugal                    2     185.13     92.565000   6.383793\n",
       "India                       2     183.15     91.575000   8.721429\n",
       "Others                     15    1094.94     72.996000   7.448571"
      ]
     },
     "execution_count": 126,
     "metadata": {},
     "output_type": "execute_result"
    }
   ],
   "source": [
    "q = '''\n",
    "WITH cus AS (\n",
    "    SELECT \n",
    "        c.customer_id,\n",
    "        c.country,\n",
    "        SUM(i.total) as total,\n",
    "        COUNT(DISTINCT i.invoice_id) as count_order\n",
    "    FROM customer c \n",
    "        LEFT JOIN invoice i ON c.customer_id = i.customer_id\n",
    "    GROUP BY c.customer_id\n",
    "),\n",
    "countries AS (\n",
    "    SELECT\n",
    "        cus.country country,\n",
    "        COUNT(DISTINCT cus.customer_id) as tot_customers,\n",
    "        SUM(cus.total) as tot_sales,\n",
    "        SUM(cus.count_order) as count_order\n",
    "    FROM cus\n",
    "    GROUP BY country    \n",
    ")\n",
    "\n",
    "SELECT \n",
    "    CASE \n",
    "        WHEN c.tot_customers = 1 THEN \"Others\"\n",
    "        ELSE c.country\n",
    "    END AS country_oth,\n",
    "    SUM(c.tot_customers) AS tot_customers,\n",
    "    SUM(c.tot_sales) AS tot_sales,\n",
    "    SUM(c.tot_sales)/SUM(tot_customers) AS avg_customer,\n",
    "    SUM(c.tot_sales)/SUM(count_order) AS avg_order\n",
    "FROM countries c\n",
    "GROUP BY country_oth\n",
    "ORDER BY     \n",
    "    CASE \n",
    "        WHEN c.tot_customers = 1 THEN 2\n",
    "        ELSE 1\n",
    "    END, \n",
    "    tot_sales DESC\n",
    "'''\n",
    "\n",
    "countries = run_query(q)\n",
    "countries.set_index('country_oth', drop=True, inplace=True)\n",
    "countries"
   ]
  },
  {
   "cell_type": "code",
   "execution_count": 132,
   "metadata": {
    "collapsed": false
   },
   "outputs": [
    {
     "data": {
      "image/png": "[encoded data removed]",
      "text/plain": [
       "<matplotlib.figure.Figure at 0x7f632cf6f908>"
      ]
     },
     "metadata": {},
     "output_type": "display_data"
    }
   ],
   "source": [
    "fig, axes = countries.plot(subplots=True, figsize=(12, 6), kind='bar', layout=(2, 2));"
   ]
  },
  {
   "cell_type": "code",
   "execution_count": 209,
   "metadata": {
    "collapsed": false,
    "scrolled": true
   },
   "outputs": [
    {
     "data": {
      "image/png": "[encoded data removed]",
      "text/plain": [
       "<matplotlib.figure.Figure at 0x7f62fdffeef0>"
      ]
     },
     "metadata": {},
     "output_type": "display_data"
    }
   ],
   "source": [
    "fig = plt.figure(figsize=(12, 6))\n",
    "colors = ['purple', 'green', 'blue', 'pink', 'brown', 'red', 'tan', 'teal', 'orange', 'lavender']\n",
    "colors_dict = dict(zip(countries.index.values, colors))\n",
    "\n",
    "def generate_plot(pos, colname, title):\n",
    "    ax = fig.add_subplot(2, 2, pos)\n",
    "    series = countries[colname].sort_values(ascending=False)\n",
    "    series_colors = [colors_dict[x] for x in series.index.values.tolist()]\n",
    "    plt.bar(np.arange(len(series)), series, color=series_colors)\n",
    "    ax.set_title(title);\n",
    "    ax.set_xticklabels([])\n",
    "\n",
    "generate_plot(1, 'tot_customers', 'Total customers')\n",
    "generate_plot(2, 'tot_sales', 'Total sales')\n",
    "generate_plot(3, 'avg_customer', 'Average customer')\n",
    "generate_plot(4, 'avg_order', 'Average order')\n",
    "\n",
    "# https://stackoverflow.com/questions/31303912/matplotlib-pyplot-scatterplot-legend-from-color-dictionary\n",
    "markers = [plt.Line2D([0,0],[0,0],color=color, marker='s', linestyle='') for color in colors]\n",
    "plt.legend(markers, colors_dict.keys(), numpoints=1, loc=2, bbox_to_anchor=(1.05, 2.24))\n",
    "\n",
    "plt.show()"
   ]
  },
  {
   "cell_type": "code",
   "execution_count": 258,
   "metadata": {
    "collapsed": false
   },
   "outputs": [
    {
     "name": "stdout",
     "output_type": "stream",
     "text": [
      "total invoices count: 614, full album purchases: 201\n"
     ]
    }
   ],
   "source": [
    "q = '''\n",
    "WITH invs AS(\n",
    "    SELECT\n",
    "        il.invoice_id,\n",
    "        a.album_id,\n",
    "        COUNT(DISTINCT il.track_id) as tracks\n",
    "    FROM invoice_line il\n",
    "        LEFT JOIN track t ON il.track_id = t.track_id\n",
    "        LEFT JOIN album a ON t.album_id = a.album_id\n",
    "    GROUP BY il.invoice_id, a.album_id    \n",
    "), albms AS(\n",
    "    SELECT\n",
    "        a.album_id,\n",
    "        COUNT(DISTINCT t.track_id) as tracks\n",
    "    FROM album a\n",
    "        LEFT JOIN track t ON t.album_id = a.album_id       \n",
    "    GROUP BY a.album_id \n",
    "), fulls AS(\n",
    "SELECT\n",
    "    i.invoice_id,\n",
    "    MAX(CASE WHEN i.tracks = a.tracks THEN 1 ELSE 0 END) AS full_album\n",
    "FROM invs i\n",
    "    LEFT JOIN albms a ON a.album_id = i.album_id \n",
    "GROUP BY i.invoice_id\n",
    ")\n",
    "\n",
    "SELECT\n",
    "    COUNT(DISTINCT invoice_id) invoices,\n",
    "    SUM(full_album) full_albums\n",
    "FROM fulls f\n",
    "'''\n",
    "\n",
    "\n",
    "invoices = run_query(q)\n",
    "print('total invoices count: %d, full album purchases: %d' % (invoices.iloc[0, 0], invoices.iloc[0, 1]))"
   ]
  }
 ],
 "metadata": {
  "kernelspec": {
   "display_name": "Python 3",
   "language": "python",
   "name": "python3"
  },
  "language_info": {
   "codemirror_mode": {
    "name": "ipython",
    "version": 3
   },
   "file_extension": ".py",
   "mimetype": "text/x-python",
   "name": "python",
   "nbconvert_exporter": "python",
   "pygments_lexer": "ipython3",
   "version": "3.4.3"
  }
 },
 "nbformat": 4,
 "nbformat_minor": 2
}
